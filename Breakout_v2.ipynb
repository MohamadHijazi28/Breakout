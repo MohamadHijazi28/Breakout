{
 "cells": [
  {
   "cell_type": "markdown",
   "metadata": {
    "id": "HpPXjF4Xdwuk"
   },
   "source": [
    "# Deep Q-Network for Atari Breakout.\n",
    "\n",
    "In this assignment you are required to implement a Deep Q-Network agent, for the Atari game Breakout.\n",
    "\n",
    "You need to submit your code, along with a plot of the rewards during training, and a video of an episode with the trained agent.\n"
   ]
  },
  {
   "cell_type": "markdown",
   "metadata": {
    "id": "dWEpKsGXdwup"
   },
   "source": [
    "__Frameworks__ - we'll accept this homework in any deep learning framework. This particular notebook was designed for PyTorch, but you'll find it easy to adapt it to almost any Python-based deep learning framework."
   ]
  },
  {
   "cell_type": "code",
   "source": [
    "!pip install setuptools==65.5.0 \"wheel<0.40.0\"\n",
    "!pip install stable-baselines3[extra] ale-py==0.7.4 gym==0.21.0\n",
    "!pip install pyglet==1.5.27\n",
    "!pip install pyvirtualdisplay\n",
    "!pip install utils"
   ],
   "metadata": {
    "id": "8A9SjGmKhLPY",
    "colab": {
     "base_uri": "https://localhost:8080/"
    },
    "outputId": "f6e8aa2e-8c23-402e-a259-6aa088990a95"
   },
   "execution_count": null,
   "outputs": [
    {
     "output_type": "stream",
     "name": "stdout",
     "text": [
      "Requirement already satisfied: setuptools==65.5.0 in /usr/local/lib/python3.10/dist-packages (65.5.0)\n",
      "Requirement already satisfied: wheel<0.40.0 in /usr/local/lib/python3.10/dist-packages (0.38.4)\n",
      "Requirement already satisfied: stable-baselines3[extra] in /usr/local/lib/python3.10/dist-packages (1.8.0)\n",
      "Requirement already satisfied: ale-py==0.7.4 in /usr/local/lib/python3.10/dist-packages (0.7.4)\n",
      "Requirement already satisfied: gym==0.21.0 in /usr/local/lib/python3.10/dist-packages (0.21.0)\n",
      "Requirement already satisfied: numpy in /usr/local/lib/python3.10/dist-packages (from ale-py==0.7.4) (1.25.2)\n",
      "Requirement already satisfied: importlib-resources in /usr/local/lib/python3.10/dist-packages (from ale-py==0.7.4) (6.3.2)\n",
      "Requirement already satisfied: cloudpickle>=1.2.0 in /usr/local/lib/python3.10/dist-packages (from gym==0.21.0) (2.2.1)\n",
      "Requirement already satisfied: torch>=1.11 in /usr/local/lib/python3.10/dist-packages (from stable-baselines3[extra]) (2.2.1+cu121)\n",
      "Requirement already satisfied: pandas in /usr/local/lib/python3.10/dist-packages (from stable-baselines3[extra]) (1.5.3)\n",
      "Requirement already satisfied: matplotlib in /usr/local/lib/python3.10/dist-packages (from stable-baselines3[extra]) (3.7.1)\n",
      "Requirement already satisfied: importlib-metadata~=4.13 in /usr/local/lib/python3.10/dist-packages (from stable-baselines3[extra]) (4.13.0)\n",
      "Requirement already satisfied: opencv-python in /usr/local/lib/python3.10/dist-packages (from stable-baselines3[extra]) (4.8.0.76)\n",
      "Requirement already satisfied: tensorboard>=2.9.1 in /usr/local/lib/python3.10/dist-packages (from stable-baselines3[extra]) (2.15.2)\n",
      "Requirement already satisfied: psutil in /usr/local/lib/python3.10/dist-packages (from stable-baselines3[extra]) (5.9.5)\n",
      "Requirement already satisfied: tqdm in /usr/local/lib/python3.10/dist-packages (from stable-baselines3[extra]) (4.66.2)\n",
      "Requirement already satisfied: rich in /usr/local/lib/python3.10/dist-packages (from stable-baselines3[extra]) (13.7.1)\n",
      "Requirement already satisfied: pillow in /usr/local/lib/python3.10/dist-packages (from stable-baselines3[extra]) (9.4.0)\n",
      "Requirement already satisfied: autorom[accept-rom-license]~=0.6.0 in /usr/local/lib/python3.10/dist-packages (from stable-baselines3[extra]) (0.6.1)\n",
      "Requirement already satisfied: click in /usr/local/lib/python3.10/dist-packages (from autorom[accept-rom-license]~=0.6.0->stable-baselines3[extra]) (8.1.7)\n",
      "Requirement already satisfied: requests in /usr/local/lib/python3.10/dist-packages (from autorom[accept-rom-license]~=0.6.0->stable-baselines3[extra]) (2.31.0)\n",
      "Requirement already satisfied: AutoROM.accept-rom-license in /usr/local/lib/python3.10/dist-packages (from autorom[accept-rom-license]~=0.6.0->stable-baselines3[extra]) (0.6.1)\n",
      "Requirement already satisfied: zipp>=0.5 in /usr/local/lib/python3.10/dist-packages (from importlib-metadata~=4.13->stable-baselines3[extra]) (3.18.1)\n",
      "Requirement already satisfied: absl-py>=0.4 in /usr/local/lib/python3.10/dist-packages (from tensorboard>=2.9.1->stable-baselines3[extra]) (1.4.0)\n",
      "Requirement already satisfied: grpcio>=1.48.2 in /usr/local/lib/python3.10/dist-packages (from tensorboard>=2.9.1->stable-baselines3[extra]) (1.62.1)\n",
      "Requirement already satisfied: google-auth<3,>=1.6.3 in /usr/local/lib/python3.10/dist-packages (from tensorboard>=2.9.1->stable-baselines3[extra]) (2.27.0)\n",
      "Requirement already satisfied: google-auth-oauthlib<2,>=0.5 in /usr/local/lib/python3.10/dist-packages (from tensorboard>=2.9.1->stable-baselines3[extra]) (1.2.0)\n",
      "Requirement already satisfied: markdown>=2.6.8 in /usr/local/lib/python3.10/dist-packages (from tensorboard>=2.9.1->stable-baselines3[extra]) (3.6)\n",
      "Requirement already satisfied: protobuf!=4.24.0,>=3.19.6 in /usr/local/lib/python3.10/dist-packages (from tensorboard>=2.9.1->stable-baselines3[extra]) (3.20.3)\n",
      "Requirement already satisfied: setuptools>=41.0.0 in /usr/local/lib/python3.10/dist-packages (from tensorboard>=2.9.1->stable-baselines3[extra]) (65.5.0)\n",
      "Requirement already satisfied: six>1.9 in /usr/local/lib/python3.10/dist-packages (from tensorboard>=2.9.1->stable-baselines3[extra]) (1.16.0)\n",
      "Requirement already satisfied: tensorboard-data-server<0.8.0,>=0.7.0 in /usr/local/lib/python3.10/dist-packages (from tensorboard>=2.9.1->stable-baselines3[extra]) (0.7.2)\n",
      "Requirement already satisfied: werkzeug>=1.0.1 in /usr/local/lib/python3.10/dist-packages (from tensorboard>=2.9.1->stable-baselines3[extra]) (3.0.1)\n",
      "Requirement already satisfied: filelock in /usr/local/lib/python3.10/dist-packages (from torch>=1.11->stable-baselines3[extra]) (3.13.1)\n",
      "Requirement already satisfied: typing-extensions>=4.8.0 in /usr/local/lib/python3.10/dist-packages (from torch>=1.11->stable-baselines3[extra]) (4.10.0)\n",
      "Requirement already satisfied: sympy in /usr/local/lib/python3.10/dist-packages (from torch>=1.11->stable-baselines3[extra]) (1.12)\n",
      "Requirement already satisfied: networkx in /usr/local/lib/python3.10/dist-packages (from torch>=1.11->stable-baselines3[extra]) (3.2.1)\n",
      "Requirement already satisfied: jinja2 in /usr/local/lib/python3.10/dist-packages (from torch>=1.11->stable-baselines3[extra]) (3.1.3)\n",
      "Requirement already satisfied: fsspec in /usr/local/lib/python3.10/dist-packages (from torch>=1.11->stable-baselines3[extra]) (2023.6.0)\n",
      "Requirement already satisfied: nvidia-cuda-nvrtc-cu12==12.1.105 in /usr/local/lib/python3.10/dist-packages (from torch>=1.11->stable-baselines3[extra]) (12.1.105)\n",
      "Requirement already satisfied: nvidia-cuda-runtime-cu12==12.1.105 in /usr/local/lib/python3.10/dist-packages (from torch>=1.11->stable-baselines3[extra]) (12.1.105)\n",
      "Requirement already satisfied: nvidia-cuda-cupti-cu12==12.1.105 in /usr/local/lib/python3.10/dist-packages (from torch>=1.11->stable-baselines3[extra]) (12.1.105)\n",
      "Requirement already satisfied: nvidia-cudnn-cu12==8.9.2.26 in /usr/local/lib/python3.10/dist-packages (from torch>=1.11->stable-baselines3[extra]) (8.9.2.26)\n",
      "Requirement already satisfied: nvidia-cublas-cu12==12.1.3.1 in /usr/local/lib/python3.10/dist-packages (from torch>=1.11->stable-baselines3[extra]) (12.1.3.1)\n",
      "Requirement already satisfied: nvidia-cufft-cu12==11.0.2.54 in /usr/local/lib/python3.10/dist-packages (from torch>=1.11->stable-baselines3[extra]) (11.0.2.54)\n",
      "Requirement already satisfied: nvidia-curand-cu12==10.3.2.106 in /usr/local/lib/python3.10/dist-packages (from torch>=1.11->stable-baselines3[extra]) (10.3.2.106)\n",
      "Requirement already satisfied: nvidia-cusolver-cu12==11.4.5.107 in /usr/local/lib/python3.10/dist-packages (from torch>=1.11->stable-baselines3[extra]) (11.4.5.107)\n",
      "Requirement already satisfied: nvidia-cusparse-cu12==12.1.0.106 in /usr/local/lib/python3.10/dist-packages (from torch>=1.11->stable-baselines3[extra]) (12.1.0.106)\n",
      "Requirement already satisfied: nvidia-nccl-cu12==2.19.3 in /usr/local/lib/python3.10/dist-packages (from torch>=1.11->stable-baselines3[extra]) (2.19.3)\n",
      "Requirement already satisfied: nvidia-nvtx-cu12==12.1.105 in /usr/local/lib/python3.10/dist-packages (from torch>=1.11->stable-baselines3[extra]) (12.1.105)\n",
      "Requirement already satisfied: triton==2.2.0 in /usr/local/lib/python3.10/dist-packages (from torch>=1.11->stable-baselines3[extra]) (2.2.0)\n",
      "Requirement already satisfied: nvidia-nvjitlink-cu12 in /usr/local/lib/python3.10/dist-packages (from nvidia-cusolver-cu12==11.4.5.107->torch>=1.11->stable-baselines3[extra]) (12.4.99)\n",
      "Requirement already satisfied: contourpy>=1.0.1 in /usr/local/lib/python3.10/dist-packages (from matplotlib->stable-baselines3[extra]) (1.2.0)\n",
      "Requirement already satisfied: cycler>=0.10 in /usr/local/lib/python3.10/dist-packages (from matplotlib->stable-baselines3[extra]) (0.12.1)\n",
      "Requirement already satisfied: fonttools>=4.22.0 in /usr/local/lib/python3.10/dist-packages (from matplotlib->stable-baselines3[extra]) (4.50.0)\n",
      "Requirement already satisfied: kiwisolver>=1.0.1 in /usr/local/lib/python3.10/dist-packages (from matplotlib->stable-baselines3[extra]) (1.4.5)\n",
      "Requirement already satisfied: packaging>=20.0 in /usr/local/lib/python3.10/dist-packages (from matplotlib->stable-baselines3[extra]) (24.0)\n",
      "Requirement already satisfied: pyparsing>=2.3.1 in /usr/local/lib/python3.10/dist-packages (from matplotlib->stable-baselines3[extra]) (3.1.2)\n",
      "Requirement already satisfied: python-dateutil>=2.7 in /usr/local/lib/python3.10/dist-packages (from matplotlib->stable-baselines3[extra]) (2.8.2)\n",
      "Requirement already satisfied: pytz>=2020.1 in /usr/local/lib/python3.10/dist-packages (from pandas->stable-baselines3[extra]) (2023.4)\n",
      "Requirement already satisfied: markdown-it-py>=2.2.0 in /usr/local/lib/python3.10/dist-packages (from rich->stable-baselines3[extra]) (3.0.0)\n",
      "Requirement already satisfied: pygments<3.0.0,>=2.13.0 in /usr/local/lib/python3.10/dist-packages (from rich->stable-baselines3[extra]) (2.16.1)\n",
      "Requirement already satisfied: cachetools<6.0,>=2.0.0 in /usr/local/lib/python3.10/dist-packages (from google-auth<3,>=1.6.3->tensorboard>=2.9.1->stable-baselines3[extra]) (5.3.3)\n",
      "Requirement already satisfied: pyasn1-modules>=0.2.1 in /usr/local/lib/python3.10/dist-packages (from google-auth<3,>=1.6.3->tensorboard>=2.9.1->stable-baselines3[extra]) (0.3.0)\n",
      "Requirement already satisfied: rsa<5,>=3.1.4 in /usr/local/lib/python3.10/dist-packages (from google-auth<3,>=1.6.3->tensorboard>=2.9.1->stable-baselines3[extra]) (4.9)\n",
      "Requirement already satisfied: requests-oauthlib>=0.7.0 in /usr/local/lib/python3.10/dist-packages (from google-auth-oauthlib<2,>=0.5->tensorboard>=2.9.1->stable-baselines3[extra]) (1.4.0)\n",
      "Requirement already satisfied: mdurl~=0.1 in /usr/local/lib/python3.10/dist-packages (from markdown-it-py>=2.2.0->rich->stable-baselines3[extra]) (0.1.2)\n",
      "Requirement already satisfied: charset-normalizer<4,>=2 in /usr/local/lib/python3.10/dist-packages (from requests->autorom[accept-rom-license]~=0.6.0->stable-baselines3[extra]) (3.3.2)\n",
      "Requirement already satisfied: idna<4,>=2.5 in /usr/local/lib/python3.10/dist-packages (from requests->autorom[accept-rom-license]~=0.6.0->stable-baselines3[extra]) (3.6)\n",
      "Requirement already satisfied: urllib3<3,>=1.21.1 in /usr/local/lib/python3.10/dist-packages (from requests->autorom[accept-rom-license]~=0.6.0->stable-baselines3[extra]) (2.0.7)\n",
      "Requirement already satisfied: certifi>=2017.4.17 in /usr/local/lib/python3.10/dist-packages (from requests->autorom[accept-rom-license]~=0.6.0->stable-baselines3[extra]) (2024.2.2)\n",
      "Requirement already satisfied: MarkupSafe>=2.1.1 in /usr/local/lib/python3.10/dist-packages (from werkzeug>=1.0.1->tensorboard>=2.9.1->stable-baselines3[extra]) (2.1.5)\n",
      "Requirement already satisfied: mpmath>=0.19 in /usr/local/lib/python3.10/dist-packages (from sympy->torch>=1.11->stable-baselines3[extra]) (1.3.0)\n",
      "Requirement already satisfied: pyasn1<0.6.0,>=0.4.6 in /usr/local/lib/python3.10/dist-packages (from pyasn1-modules>=0.2.1->google-auth<3,>=1.6.3->tensorboard>=2.9.1->stable-baselines3[extra]) (0.5.1)\n",
      "Requirement already satisfied: oauthlib>=3.0.0 in /usr/local/lib/python3.10/dist-packages (from requests-oauthlib>=0.7.0->google-auth-oauthlib<2,>=0.5->tensorboard>=2.9.1->stable-baselines3[extra]) (3.2.2)\n",
      "Requirement already satisfied: pyglet==1.5.27 in /usr/local/lib/python3.10/dist-packages (1.5.27)\n",
      "Requirement already satisfied: pyvirtualdisplay in /usr/local/lib/python3.10/dist-packages (3.0)\n",
      "Requirement already satisfied: utils in /usr/local/lib/python3.10/dist-packages (1.0.2)\n"
     ]
    }
   ]
  },
  {
   "cell_type": "code",
   "execution_count": 2,
   "metadata": {
    "id": "su-Sf4z3dwup",
    "colab": {
     "base_uri": "https://localhost:8080/"
    },
    "outputId": "399dc203-2ec1-4ccf-d329-bea238f2f8c6",
    "ExecuteTime": {
     "end_time": "2024-03-26T11:16:21.317007Z",
     "start_time": "2024-03-26T11:16:04.360339Z"
    }
   },
   "outputs": [
    {
     "name": "stdout",
     "output_type": "stream",
     "text": [
      "Using device: cuda\n"
     ]
    }
   ],
   "source": [
    "import os\n",
    "import random\n",
    "import numpy as np\n",
    "import torch\n",
    "import gym\n",
    "import matplotlib.pyplot as plt\n",
    "from IPython import display as ipythondisplay\n",
    "from pyvirtualdisplay import Display\n",
    "\n",
    "# if type(os.environ.get(\"DISPLAY\")) is not str or len(os.environ.get(\"DISPLAY\")) == 0:\n",
    "#     !apt-get -qq install -y xvfb\n",
    "#     os.environ['DISPLAY'] = ':1'\n",
    "# \n",
    "# display = Display(visible=0, size=(400, 300))\n",
    "# display.start()\n",
    "\n",
    "device = torch.device(\"cuda\" if torch.cuda.is_available() else \"cpu\")\n",
    "print(f\"Using device: {device}\")"
   ]
  },
  {
   "cell_type": "markdown",
   "source": [
    "## Breakout\n",
    "\n",
    "This is an environment emulating the Atari game *Breakout*. The goal is to break all the bricks in the wall without letting the ball touch the floor. You have 5 lives and get points more points for higher brick than for the lower ones.\n",
    "\n",
    "The observation is an image with dimensions (210, 160, 3).\n",
    "\n",
    "There are 4 actions defined as NOOP, FIRE, LEFT and RIGHT.\n",
    "\n",
    "See full description [here](https://www.gymlibrary.dev/environments/atari/breakout/).\n",
    "\n",
    "\n"
   ],
   "metadata": {
    "id": "kM9mLGshmdmD"
   }
  },
  {
   "cell_type": "code",
   "source": [
    "ENV_NAME = \"BreakoutNoFrameskip-v4\"\n",
    "env = gym.make(ENV_NAME)\n",
    "obs = env.reset()\n",
    "\n",
    "n_actions = env.action_space.n\n",
    "obs_dim = obs.shape\n",
    "print(\"observation dim\", obs_dim, \"number of actions\", n_actions)\n",
    "\n",
    "\n",
    "n_cols = 5\n",
    "n_rows = 2\n",
    "fig = plt.figure(figsize=(16, 9))\n",
    "\n",
    "for row in range(n_rows):\n",
    "    for col in range(n_cols):\n",
    "        ax = fig.add_subplot(n_rows, n_cols, row * n_cols + col + 1)\n",
    "        #ax.imshow(obs)\n",
    "        ax.imshow(env.render('rgb_array'))\n",
    "        env.step(env.action_space.sample())\n",
    "plt.show()"
   ],
   "metadata": {
    "id": "rRyG8rMWhwrp",
    "colab": {
     "base_uri": "https://localhost:8080/",
     "height": 679
    },
    "outputId": "c0172b34-8d60-47f4-e99e-f2e5f8663b37",
    "ExecuteTime": {
     "end_time": "2024-03-26T11:16:38.008962Z",
     "start_time": "2024-03-26T11:16:34.319055Z"
    }
   },
   "execution_count": 3,
   "outputs": [
    {
     "name": "stdout",
     "output_type": "stream",
     "text": [
      "observation dim (210, 160, 3) number of actions 4\n"
     ]
    },
    {
     "data": {
      "text/plain": "<Figure size 1600x900 with 10 Axes>",
      "image/png": "[encoded data removed]"
     },
     "metadata": {},
     "output_type": "display_data"
    }
   ]
  },
  {
   "cell_type": "markdown",
   "source": [
    "## Wrappers\n",
    "\n",
    "In order to make the environment more suitable for RL training, we make the following updates to the environment, using environment wrappers:\n",
    "1. Preprocess the images to contain only the relevant part of the image, converted to grayscale. The raw images are large and we can do with 64x64 images.\n",
    "2. Concatenate the 4 previous images (in order to capture dynamics)\n",
    "3. Start the fire action automatically when starting the episode\n",
    "4. Repeat the same action for 4 time steps\n",
    "5. Output the maximum values of the last 2 frames per pixel (in order to prevent blinking)\n",
    "6. Ouput a \"done\" signal every time a life is reduced but only reset the environment when all lives are gone\n",
    "7. Bin the rewards to the values {-1, 0, 1}\n",
    "\n",
    "\n"
   ],
   "metadata": {
    "id": "CBQL2MZB2j3N"
   }
  },
  {
   "cell_type": "code",
   "execution_count": 4,
   "metadata": {
    "id": "dKk0se7Edwut",
    "ExecuteTime": {
     "end_time": "2024-03-26T11:16:43.248633Z",
     "start_time": "2024-03-26T11:16:42.994176Z"
    }
   },
   "outputs": [],
   "source": [
    "from gym.core import Wrapper\n",
    "from gym.spaces.box import Box\n",
    "from gym.core import ObservationWrapper\n",
    "from gym.spaces import Box\n",
    "import cv2\n",
    "\n",
    "class PreprocessAtariObs(ObservationWrapper):\n",
    "    def __init__(self, env):\n",
    "        \"\"\"A gym wrapper that crops, scales image into the desired shapes and grayscales it.\"\"\"\n",
    "        ObservationWrapper.__init__(self, env)\n",
    "\n",
    "        self.img_size = (1, 64, 64)\n",
    "        self.observation_space = Box(0.0, 1.0, self.img_size)\n",
    "\n",
    "\n",
    "    def observation(self, img):\n",
    "        \"\"\"what happens to each observation\"\"\"\n",
    "\n",
    "        #  * crop image, remove irrelevant parts\n",
    "        #  * resize image to self.img_size\n",
    "        #  * cast image to grayscale\n",
    "        #  * convert image pixels to (0,1) range, float32 type\n",
    "        img = img[34:-16, 8:-8, :]\n",
    "        img = cv2.resize(img, self.img_size[1:])\n",
    "        img = (img*np.array([[[0.8, .1, .1]]])).sum(-1, keepdims=True)  # grayscale with more weight for red (accelerates training)\n",
    "        img = img.astype('float32') / 255.\n",
    "        return img.transpose((2, 0, 1))\n",
    "\n",
    "class MaxAndSkipEnv(gym.Wrapper):\n",
    "    def __init__(self, env, skip=4):\n",
    "        \"\"\"Return only every `skip`-th frame\"\"\"\n",
    "        gym.Wrapper.__init__(self, env)\n",
    "        # most recent raw observations (for max pooling across time steps)\n",
    "        self._obs_buffer = np.zeros(\n",
    "            (2,) + env.observation_space.shape, dtype=np.uint8)\n",
    "        self._skip = skip\n",
    "\n",
    "    def step(self, action):\n",
    "        \"\"\"Repeat action, sum reward, and max over last observations.\"\"\"\n",
    "        total_reward = 0.0\n",
    "        done = None\n",
    "        for i in range(self._skip):\n",
    "            obs, reward, done, info = self.env.step(action)\n",
    "            if i == self._skip - 2:\n",
    "                self._obs_buffer[0] = obs\n",
    "            if i == self._skip - 1:\n",
    "                self._obs_buffer[1] = obs\n",
    "            total_reward += reward\n",
    "            if done:\n",
    "                break\n",
    "        # Note that the observation on the done=True frame\n",
    "        # doesn't matter\n",
    "        max_frame = self._obs_buffer.max(axis=0)\n",
    "\n",
    "        return max_frame, total_reward, done, info\n",
    "\n",
    "    def reset(self, **kwargs):\n",
    "        return self.env.reset(**kwargs)\n",
    "\n",
    "class ClipRewardEnv(gym.RewardWrapper):\n",
    "    def __init__(self, env):\n",
    "        gym.RewardWrapper.__init__(self, env)\n",
    "\n",
    "    def reward(self, reward):\n",
    "        \"\"\"Bin reward to {+1, 0, -1} by its sign.\"\"\"\n",
    "        return np.sign(reward)\n",
    "\n",
    "class FireResetEnv(gym.Wrapper):\n",
    "    def __init__(self, env):\n",
    "        \"\"\"Take action on reset for environments that are fixed until firing.\"\"\"\n",
    "        gym.Wrapper.__init__(self, env)\n",
    "        assert env.unwrapped.get_action_meanings()[1] == 'FIRE'\n",
    "        assert len(env.unwrapped.get_action_meanings()) >= 3\n",
    "\n",
    "    def reset(self, **kwargs):\n",
    "        self.env.reset(**kwargs)\n",
    "        obs, _, done, _ = self.env.step(1)\n",
    "        if done:\n",
    "            self.env.reset(**kwargs)\n",
    "        obs, _, done, _ = self.env.step(2)\n",
    "        if done:\n",
    "            self.env.reset(**kwargs)\n",
    "        return obs\n",
    "\n",
    "    def step(self, ac):\n",
    "        return self.env.step(ac)\n",
    "\n",
    "class EpisodicLifeEnv(gym.Wrapper):\n",
    "    def __init__(self, env):\n",
    "        \"\"\"Make end-of-life == end-of-episode, but only reset on true game over.\n",
    "        Done by DeepMind for the DQN and co. since it helps value estimation.\n",
    "        \"\"\"\n",
    "        gym.Wrapper.__init__(self, env)\n",
    "        self.lives = 0\n",
    "        self.was_real_done = True\n",
    "\n",
    "    def step(self, action):\n",
    "        obs, reward, done, info = self.env.step(action)\n",
    "        self.was_real_done = done\n",
    "        # check current lives, make loss of life terminal,\n",
    "        # then update lives to handle bonus lives\n",
    "        lives = self.env.unwrapped.ale.lives()\n",
    "        if lives < self.lives and lives > 0:\n",
    "            # for Qbert sometimes we stay in lives == 0 condition for a few frames\n",
    "            # so it's important to keep lives > 0, so that we only reset once\n",
    "            # the environment advertises done.\n",
    "            done = True\n",
    "        self.lives = lives\n",
    "        return obs, reward, done, info\n",
    "\n",
    "    def reset(self, **kwargs):\n",
    "        \"\"\"Reset only when lives are exhausted.\n",
    "        This way all states are still reachable even though lives are episodic,\n",
    "        and the learner need not know about any of this behind-the-scenes.\n",
    "        \"\"\"\n",
    "        if self.was_real_done:\n",
    "            obs = self.env.reset(**kwargs)\n",
    "        else:\n",
    "            # no-op step to advance from terminal/lost life state\n",
    "            obs, _, _, _ = self.env.step(0)\n",
    "        self.lives = self.env.unwrapped.ale.lives()\n",
    "        return obs\n",
    "\n",
    "def PrimaryAtariWrap(env, clip_rewards=True):\n",
    "    assert 'NoFrameskip' in env.spec.id\n",
    "\n",
    "    # This wrapper holds the same action for <skip> frames and outputs\n",
    "    # the maximal pixel value of 2 last frames (to handle blinking\n",
    "    # in some envs)\n",
    "    env = MaxAndSkipEnv(env, skip=4)\n",
    "\n",
    "    # This wrapper sends done=True when each life is lost\n",
    "    # (not all the 5 lives that are givern by the game rules).\n",
    "    # It should make easier for the agent to understand that losing is bad.\n",
    "    env = EpisodicLifeEnv(env)\n",
    "\n",
    "    # This wrapper laucnhes the ball when an episode starts.\n",
    "    # Without it the agent has to learn this action, too.\n",
    "    # Actually it can but learning would take longer.\n",
    "    env = FireResetEnv(env)\n",
    "\n",
    "    # This wrapper transforms rewards to {-1, 0, 1} according to their sign\n",
    "    if clip_rewards:\n",
    "        env = ClipRewardEnv(env)\n",
    "\n",
    "    # This wrapper preprocesses observations\n",
    "    env = PreprocessAtariObs(env)\n",
    "    return env\n",
    "\n",
    "class FrameBuffer(Wrapper):\n",
    "    def __init__(self, env, n_frames=4, dim_order='tensorflow'):\n",
    "        \"\"\"A gym wrapper that reshapes, crops and scales image into the desired shapes\"\"\"\n",
    "        super(FrameBuffer, self).__init__(env)\n",
    "        self.dim_order = dim_order\n",
    "        if dim_order == 'tensorflow':\n",
    "            height, width, n_channels = env.observation_space.shape\n",
    "            obs_shape = [height, width, n_channels * n_frames]\n",
    "        elif dim_order == 'pytorch':\n",
    "            n_channels, height, width = env.observation_space.shape\n",
    "            obs_shape = [n_channels * n_frames, height, width]\n",
    "        else:\n",
    "            raise ValueError(\n",
    "                'dim_order should be \"tensorflow\" or \"pytorch\", got {}'.format(dim_order))\n",
    "        self.observation_space = Box(0.0, 1.0, obs_shape)\n",
    "        self.framebuffer = np.zeros(obs_shape, 'float32')\n",
    "\n",
    "    def reset(self):\n",
    "        \"\"\"resets breakout, returns initial frames\"\"\"\n",
    "        self.framebuffer = np.zeros_like(self.framebuffer)\n",
    "        self.update_buffer(self.env.reset())\n",
    "        return self.framebuffer\n",
    "\n",
    "    def step(self, action):\n",
    "        \"\"\"plays breakout for 1 step, returns frame buffer\"\"\"\n",
    "        new_img, reward, done, info = self.env.step(action)\n",
    "        self.update_buffer(new_img)\n",
    "        return self.framebuffer, reward, done, info\n",
    "\n",
    "    def update_buffer(self, img):\n",
    "        if self.dim_order == 'tensorflow':\n",
    "            offset = self.env.observation_space.shape[-1]\n",
    "            axis = -1\n",
    "            cropped_framebuffer = self.framebuffer[:, :, :-offset]\n",
    "        elif self.dim_order == 'pytorch':\n",
    "            offset = self.env.observation_space.shape[0]\n",
    "            axis = 0\n",
    "            cropped_framebuffer = self.framebuffer[:-offset]\n",
    "        self.framebuffer = np.concatenate(\n",
    "            [img, cropped_framebuffer], axis=axis)\n",
    "\n",
    "\n",
    "def make_env(clip_rewards=True, seed=None):\n",
    "    env = gym.make(ENV_NAME)  # create raw env\n",
    "    if seed is not None:\n",
    "        env.seed(seed)\n",
    "    env = PrimaryAtariWrap(env, clip_rewards)\n",
    "    env = FrameBuffer(env, n_frames=4, dim_order='pytorch')\n",
    "    return env\n",
    "\n",
    "env = make_env()\n",
    "env.reset()\n",
    "n_actions = env.action_space.n\n",
    "state_shape = env.observation_space.shape"
   ]
  },
  {
   "cell_type": "markdown",
   "source": [
    "## Check observations under wrappers"
   ],
   "metadata": {
    "id": "66W1FS5U8jK2"
   }
  },
  {
   "cell_type": "code",
   "execution_count": 5,
   "metadata": {
    "id": "LcXX_vMEdwut",
    "colab": {
     "base_uri": "https://localhost:8080/",
     "height": 1000
    },
    "outputId": "e3b37174-2900-4581-a4ac-a3c08e4c3601",
    "ExecuteTime": {
     "end_time": "2024-03-26T11:16:53.498005Z",
     "start_time": "2024-03-26T11:16:52.589240Z"
    }
   },
   "outputs": [
    {
     "data": {
      "text/plain": "<Figure size 1200x1000 with 1 Axes>",
      "image/png": "[encoded data removed]"
     },
     "metadata": {},
     "output_type": "display_data"
    },
    {
     "data": {
      "text/plain": "<Figure size 1500x1500 with 1 Axes>",
      "image/png": "[encoded data removed]"
     },
     "metadata": {},
     "output_type": "display_data"
    }
   ],
   "source": [
    "for _ in range(12):\n",
    "    obs, _, _, _ = env.step(env.action_space.sample())\n",
    "\n",
    "plt.figure(figsize=[12,10])\n",
    "plt.title(\"Game image\")\n",
    "plt.imshow(env.render(\"rgb_array\"))\n",
    "plt.show()\n",
    "\n",
    "plt.figure(figsize=[15,15])\n",
    "plt.title(\"Agent observation (4 frames top to bottom)\")\n",
    "plt.imshow(obs.reshape([-1, state_shape[2]]), cmap='gray')\n",
    "plt.show()"
   ]
  },
  {
   "cell_type": "markdown",
   "source": [
    "## Random Agent\n",
    "\n",
    "Here we implement a random agent to use in the 'evaluate' function, that runs the agent through multiple epsiodes."
   ],
   "metadata": {
    "id": "untiH-mtyFXn"
   }
  },
  {
   "cell_type": "code",
   "source": [
    "class RandomAgent():\n",
    "    def __init__(self, n_actions):\n",
    "        self.n_actions = n_actions\n",
    "\n",
    "\n",
    "    def get_qvalues(self, states):\n",
    "        return np.random.normal(size=(1,self.n_actions,))\n",
    "\n",
    "    def sample_actions(self, qvalues):\n",
    "        return np.random.randint(self.n_actions, size=(1,))"
   ],
   "metadata": {
    "id": "LBA1qQHx-vsb",
    "ExecuteTime": {
     "end_time": "2024-03-26T11:16:58.656005Z",
     "start_time": "2024-03-26T11:16:58.633116Z"
    }
   },
   "execution_count": 6,
   "outputs": []
  },
  {
   "cell_type": "code",
   "execution_count": 7,
   "metadata": {
    "id": "7HGjUNw8dwuu",
    "ExecuteTime": {
     "end_time": "2024-03-26T11:17:01.118612Z",
     "start_time": "2024-03-26T11:17:00.726403Z"
    }
   },
   "outputs": [],
   "source": [
    "def evaluate(env, agent, n_games=1, greedy=False, t_max=10000):\n",
    "    \"\"\" Plays n_games full games. If greedy, picks actions as argmax(qvalues). Returns mean reward. \"\"\"\n",
    "    rewards = []\n",
    "    for _ in range(n_games):\n",
    "        s = env.reset()\n",
    "        reward = 0\n",
    "        for _ in range(t_max):\n",
    "            qvalues = agent.get_qvalues([s])\n",
    "            action = qvalues.argmax(axis=-1)[0] if greedy else agent.sample_actions(qvalues)[0]\n",
    "            s, r, done, _ = env.step(action)\n",
    "            reward += r\n",
    "            if done:\n",
    "              break\n",
    "\n",
    "        rewards.append(reward)\n",
    "    return np.mean(rewards)\n",
    "\n",
    "agent = RandomAgent(n_actions)\n",
    "mean_reward = evaluate(env, agent, greedy=True, n_games=5)"
   ]
  },
  {
   "cell_type": "markdown",
   "source": [
    "## Video generation"
   ],
   "metadata": {
    "id": "PODeHPGzybqB"
   }
  },
  {
   "cell_type": "code",
   "execution_count": 13,
   "metadata": {
    "id": "zRc35oKRdwuy",
    "ExecuteTime": {
     "end_time": "2024-03-25T14:54:25.240638Z",
     "start_time": "2024-03-25T14:54:25.067438Z"
    }
   },
   "outputs": [
    {
     "ename": "DependencyNotInstalled",
     "evalue": "Found neither the ffmpeg nor avconv executables. On OS X, you can install ffmpeg via `brew install ffmpeg`. On most Ubuntu variants, `sudo apt-get install ffmpeg` should do it. On Ubuntu 14.04, however, you'll need to install avconv with `sudo apt-get install libav-tools`. Alternatively, please install imageio-ffmpeg with `pip install imageio-ffmpeg`",
     "output_type": "error",
     "traceback": [
      "\u001B[1;31m---------------------------------------------------------------------------\u001B[0m",
      "\u001B[1;31mDependencyNotInstalled\u001B[0m                    Traceback (most recent call last)",
      "Cell \u001B[1;32mIn[13], line 12\u001B[0m\n\u001B[0;32m      9\u001B[0m n_games \u001B[38;5;241m=\u001B[39m \u001B[38;5;241m1\u001B[39m \u001B[38;5;66;03m# how many games to record\u001B[39;00m\n\u001B[0;32m     11\u001B[0m \u001B[38;5;28;01mwith\u001B[39;00m gym\u001B[38;5;241m.\u001B[39mwrappers\u001B[38;5;241m.\u001B[39mMonitor(make_env(), directory\u001B[38;5;241m=\u001B[39m\u001B[38;5;124m\"\u001B[39m\u001B[38;5;124mvideos\u001B[39m\u001B[38;5;124m\"\u001B[39m, force\u001B[38;5;241m=\u001B[39m\u001B[38;5;28;01mTrue\u001B[39;00m) \u001B[38;5;28;01mas\u001B[39;00m env_monitor:\n\u001B[1;32m---> 12\u001B[0m     \u001B[43menv_monitor\u001B[49m\u001B[38;5;241;43m.\u001B[39;49m\u001B[43mreset\u001B[49m\u001B[43m(\u001B[49m\u001B[43m)\u001B[49m\n\u001B[0;32m     13\u001B[0m     sessions \u001B[38;5;241m=\u001B[39m [evaluate(env_monitor, agent, n_games\u001B[38;5;241m=\u001B[39m\u001B[38;5;241m3\u001B[39m, greedy\u001B[38;5;241m=\u001B[39m\u001B[38;5;28;01mFalse\u001B[39;00m) \u001B[38;5;28;01mfor\u001B[39;00m _ \u001B[38;5;129;01min\u001B[39;00m \u001B[38;5;28mrange\u001B[39m(\u001B[38;5;241m10\u001B[39m)]\n",
      "File \u001B[1;32m~\\PycharmProjects\\RL_1\\.venv\\lib\\site-packages\\gym\\wrappers\\monitor.py:56\u001B[0m, in \u001B[0;36mMonitor.reset\u001B[1;34m(self, **kwargs)\u001B[0m\n\u001B[0;32m     54\u001B[0m \u001B[38;5;28mself\u001B[39m\u001B[38;5;241m.\u001B[39m_before_reset()\n\u001B[0;32m     55\u001B[0m observation \u001B[38;5;241m=\u001B[39m \u001B[38;5;28mself\u001B[39m\u001B[38;5;241m.\u001B[39menv\u001B[38;5;241m.\u001B[39mreset(\u001B[38;5;241m*\u001B[39m\u001B[38;5;241m*\u001B[39mkwargs)\n\u001B[1;32m---> 56\u001B[0m \u001B[38;5;28;43mself\u001B[39;49m\u001B[38;5;241;43m.\u001B[39;49m\u001B[43m_after_reset\u001B[49m\u001B[43m(\u001B[49m\u001B[43mobservation\u001B[49m\u001B[43m)\u001B[49m\n\u001B[0;32m     58\u001B[0m \u001B[38;5;28;01mreturn\u001B[39;00m observation\n",
      "File \u001B[1;32m~\\PycharmProjects\\RL_1\\.venv\\lib\\site-packages\\gym\\wrappers\\monitor.py:241\u001B[0m, in \u001B[0;36mMonitor._after_reset\u001B[1;34m(self, observation)\u001B[0m\n\u001B[0;32m    238\u001B[0m \u001B[38;5;66;03m# Reset the stat count\u001B[39;00m\n\u001B[0;32m    239\u001B[0m \u001B[38;5;28mself\u001B[39m\u001B[38;5;241m.\u001B[39mstats_recorder\u001B[38;5;241m.\u001B[39mafter_reset(observation)\n\u001B[1;32m--> 241\u001B[0m \u001B[38;5;28;43mself\u001B[39;49m\u001B[38;5;241;43m.\u001B[39;49m\u001B[43mreset_video_recorder\u001B[49m\u001B[43m(\u001B[49m\u001B[43m)\u001B[49m\n\u001B[0;32m    243\u001B[0m \u001B[38;5;66;03m# Bump *after* all reset activity has finished\u001B[39;00m\n\u001B[0;32m    244\u001B[0m \u001B[38;5;28mself\u001B[39m\u001B[38;5;241m.\u001B[39mepisode_id \u001B[38;5;241m+\u001B[39m\u001B[38;5;241m=\u001B[39m \u001B[38;5;241m1\u001B[39m\n",
      "File \u001B[1;32m~\\PycharmProjects\\RL_1\\.venv\\lib\\site-packages\\gym\\wrappers\\monitor.py:267\u001B[0m, in \u001B[0;36mMonitor.reset_video_recorder\u001B[1;34m(self)\u001B[0m\n\u001B[0;32m    253\u001B[0m \u001B[38;5;66;03m# Start recording the next video.\u001B[39;00m\n\u001B[0;32m    254\u001B[0m \u001B[38;5;66;03m#\u001B[39;00m\n\u001B[0;32m    255\u001B[0m \u001B[38;5;66;03m# TODO: calculate a more correct 'episode_id' upon merge\u001B[39;00m\n\u001B[0;32m    256\u001B[0m \u001B[38;5;28mself\u001B[39m\u001B[38;5;241m.\u001B[39mvideo_recorder \u001B[38;5;241m=\u001B[39m video_recorder\u001B[38;5;241m.\u001B[39mVideoRecorder(\n\u001B[0;32m    257\u001B[0m     env\u001B[38;5;241m=\u001B[39m\u001B[38;5;28mself\u001B[39m\u001B[38;5;241m.\u001B[39menv,\n\u001B[0;32m    258\u001B[0m     base_path\u001B[38;5;241m=\u001B[39mos\u001B[38;5;241m.\u001B[39mpath\u001B[38;5;241m.\u001B[39mjoin(\n\u001B[1;32m   (...)\u001B[0m\n\u001B[0;32m    265\u001B[0m     enabled\u001B[38;5;241m=\u001B[39m\u001B[38;5;28mself\u001B[39m\u001B[38;5;241m.\u001B[39m_video_enabled(),\n\u001B[0;32m    266\u001B[0m )\n\u001B[1;32m--> 267\u001B[0m \u001B[38;5;28;43mself\u001B[39;49m\u001B[38;5;241;43m.\u001B[39;49m\u001B[43mvideo_recorder\u001B[49m\u001B[38;5;241;43m.\u001B[39;49m\u001B[43mcapture_frame\u001B[49m\u001B[43m(\u001B[49m\u001B[43m)\u001B[49m\n",
      "File \u001B[1;32m~\\PycharmProjects\\RL_1\\.venv\\lib\\site-packages\\gym\\wrappers\\monitoring\\video_recorder.py:151\u001B[0m, in \u001B[0;36mVideoRecorder.capture_frame\u001B[1;34m(self)\u001B[0m\n\u001B[0;32m    149\u001B[0m     \u001B[38;5;28mself\u001B[39m\u001B[38;5;241m.\u001B[39m_encode_ansi_frame(frame)\n\u001B[0;32m    150\u001B[0m \u001B[38;5;28;01melse\u001B[39;00m:\n\u001B[1;32m--> 151\u001B[0m     \u001B[38;5;28;43mself\u001B[39;49m\u001B[38;5;241;43m.\u001B[39;49m\u001B[43m_encode_image_frame\u001B[49m\u001B[43m(\u001B[49m\u001B[43mframe\u001B[49m\u001B[43m)\u001B[49m\n",
      "File \u001B[1;32m~\\PycharmProjects\\RL_1\\.venv\\lib\\site-packages\\gym\\wrappers\\monitoring\\video_recorder.py:208\u001B[0m, in \u001B[0;36mVideoRecorder._encode_image_frame\u001B[1;34m(self, frame)\u001B[0m\n\u001B[0;32m    206\u001B[0m \u001B[38;5;28;01mdef\u001B[39;00m \u001B[38;5;21m_encode_image_frame\u001B[39m(\u001B[38;5;28mself\u001B[39m, frame):\n\u001B[0;32m    207\u001B[0m     \u001B[38;5;28;01mif\u001B[39;00m \u001B[38;5;129;01mnot\u001B[39;00m \u001B[38;5;28mself\u001B[39m\u001B[38;5;241m.\u001B[39mencoder:\n\u001B[1;32m--> 208\u001B[0m         \u001B[38;5;28mself\u001B[39m\u001B[38;5;241m.\u001B[39mencoder \u001B[38;5;241m=\u001B[39m \u001B[43mImageEncoder\u001B[49m\u001B[43m(\u001B[49m\n\u001B[0;32m    209\u001B[0m \u001B[43m            \u001B[49m\u001B[38;5;28;43mself\u001B[39;49m\u001B[38;5;241;43m.\u001B[39;49m\u001B[43mpath\u001B[49m\u001B[43m,\u001B[49m\u001B[43m \u001B[49m\u001B[43mframe\u001B[49m\u001B[38;5;241;43m.\u001B[39;49m\u001B[43mshape\u001B[49m\u001B[43m,\u001B[49m\u001B[43m \u001B[49m\u001B[38;5;28;43mself\u001B[39;49m\u001B[38;5;241;43m.\u001B[39;49m\u001B[43mframes_per_sec\u001B[49m\u001B[43m,\u001B[49m\u001B[43m \u001B[49m\u001B[38;5;28;43mself\u001B[39;49m\u001B[38;5;241;43m.\u001B[39;49m\u001B[43moutput_frames_per_sec\u001B[49m\n\u001B[0;32m    210\u001B[0m \u001B[43m        \u001B[49m\u001B[43m)\u001B[49m\n\u001B[0;32m    211\u001B[0m         \u001B[38;5;28mself\u001B[39m\u001B[38;5;241m.\u001B[39mmetadata[\u001B[38;5;124m\"\u001B[39m\u001B[38;5;124mencoder_version\u001B[39m\u001B[38;5;124m\"\u001B[39m] \u001B[38;5;241m=\u001B[39m \u001B[38;5;28mself\u001B[39m\u001B[38;5;241m.\u001B[39mencoder\u001B[38;5;241m.\u001B[39mversion_info\n\u001B[0;32m    213\u001B[0m     \u001B[38;5;28;01mtry\u001B[39;00m:\n",
      "File \u001B[1;32m~\\PycharmProjects\\RL_1\\.venv\\lib\\site-packages\\gym\\wrappers\\monitoring\\video_recorder.py:336\u001B[0m, in \u001B[0;36mImageEncoder.__init__\u001B[1;34m(self, output_path, frame_shape, frames_per_sec, output_frames_per_sec)\u001B[0m\n\u001B[0;32m    334\u001B[0m     \u001B[38;5;28mself\u001B[39m\u001B[38;5;241m.\u001B[39mbackend \u001B[38;5;241m=\u001B[39m imageio_ffmpeg\u001B[38;5;241m.\u001B[39mget_ffmpeg_exe()\n\u001B[0;32m    335\u001B[0m \u001B[38;5;28;01melse\u001B[39;00m:\n\u001B[1;32m--> 336\u001B[0m     \u001B[38;5;28;01mraise\u001B[39;00m error\u001B[38;5;241m.\u001B[39mDependencyNotInstalled(\n\u001B[0;32m    337\u001B[0m \u001B[38;5;250m        \u001B[39m\u001B[38;5;124;03m\"\"\"Found neither the ffmpeg nor avconv executables. On OS X, you can install ffmpeg via `brew install ffmpeg`. On most Ubuntu variants, `sudo apt-get install ffmpeg` should do it. On Ubuntu 14.04, however, you'll need to install avconv with `sudo apt-get install libav-tools`. Alternatively, please install imageio-ffmpeg with `pip install imageio-ffmpeg`\"\"\"\u001B[39;00m\n\u001B[0;32m    338\u001B[0m     )\n\u001B[0;32m    340\u001B[0m \u001B[38;5;28mself\u001B[39m\u001B[38;5;241m.\u001B[39mstart()\n",
      "\u001B[1;31mDependencyNotInstalled\u001B[0m: Found neither the ffmpeg nor avconv executables. On OS X, you can install ffmpeg via `brew install ffmpeg`. On most Ubuntu variants, `sudo apt-get install ffmpeg` should do it. On Ubuntu 14.04, however, you'll need to install avconv with `sudo apt-get install libav-tools`. Alternatively, please install imageio-ffmpeg with `pip install imageio-ffmpeg`"
     ]
    }
   ],
   "source": [
    "# run sessions\n",
    "\n",
    "import gym.wrappers\n",
    "import sys\n",
    "from pathlib import Path\n",
    "from base64 import b64encode\n",
    "from IPython.display import HTML\n",
    "\n",
    "n_games = 1 # how many games to record\n",
    "\n",
    "with gym.wrappers.Monitor(make_env(), directory=\"videos\", force=True) as env_monitor:\n",
    "    env_monitor.reset()\n",
    "    sessions = [evaluate(env_monitor, agent, n_games=3, greedy=False) for _ in range(10)]\n"
   ]
  },
  {
   "cell_type": "code",
   "source": [
    "# show video\n",
    "\n",
    "video_paths = sorted([s for s in Path('videos').iterdir() if s.suffix == '.mp4'])\n",
    "video_path = video_paths[-1]  # You can also try other indices (if n_games>1)\n",
    "\n",
    "if 'google.colab' in sys.modules:\n",
    "    # https://stackoverflow.com/a/57378660/1214547\n",
    "    with video_path.open('rb') as fp:\n",
    "        mp4 = fp.read()\n",
    "    data_url = 'data:video/mp4;base64,' + b64encode(mp4).decode()\n",
    "else:\n",
    "    data_url = str(video_path)\n",
    "\n",
    "HTML(\"\"\"\n",
    "<video width=\"640\" height=\"480\" controls>\n",
    "  <source src=\"{}\" type=\"video/mp4\">\n",
    "</video>\n",
    "\"\"\".format(data_url))"
   ],
   "metadata": {
    "id": "4mHjCuZuyliQ",
    "colab": {
     "base_uri": "https://localhost:8080/",
     "height": 502
    },
    "outputId": "31116212-71ef-4726-d8f3-af0d03fdfa69",
    "ExecuteTime": {
     "end_time": "2024-03-25T14:54:41.379058Z",
     "start_time": "2024-03-25T14:54:41.349137Z"
    }
   },
   "execution_count": 14,
   "outputs": [
    {
     "ename": "IndexError",
     "evalue": "list index out of range",
     "output_type": "error",
     "traceback": [
      "\u001B[1;31m---------------------------------------------------------------------------\u001B[0m",
      "\u001B[1;31mIndexError\u001B[0m                                Traceback (most recent call last)",
      "Cell \u001B[1;32mIn[14], line 4\u001B[0m\n\u001B[0;32m      1\u001B[0m \u001B[38;5;66;03m# show video\u001B[39;00m\n\u001B[0;32m      3\u001B[0m video_paths \u001B[38;5;241m=\u001B[39m \u001B[38;5;28msorted\u001B[39m([s \u001B[38;5;28;01mfor\u001B[39;00m s \u001B[38;5;129;01min\u001B[39;00m Path(\u001B[38;5;124m'\u001B[39m\u001B[38;5;124mvideos\u001B[39m\u001B[38;5;124m'\u001B[39m)\u001B[38;5;241m.\u001B[39miterdir() \u001B[38;5;28;01mif\u001B[39;00m s\u001B[38;5;241m.\u001B[39msuffix \u001B[38;5;241m==\u001B[39m \u001B[38;5;124m'\u001B[39m\u001B[38;5;124m.mp4\u001B[39m\u001B[38;5;124m'\u001B[39m])\n\u001B[1;32m----> 4\u001B[0m video_path \u001B[38;5;241m=\u001B[39m \u001B[43mvideo_paths\u001B[49m\u001B[43m[\u001B[49m\u001B[38;5;241;43m-\u001B[39;49m\u001B[38;5;241;43m1\u001B[39;49m\u001B[43m]\u001B[49m  \u001B[38;5;66;03m# You can also try other indices (if n_games>1)\u001B[39;00m\n\u001B[0;32m      6\u001B[0m \u001B[38;5;28;01mif\u001B[39;00m \u001B[38;5;124m'\u001B[39m\u001B[38;5;124mgoogle.colab\u001B[39m\u001B[38;5;124m'\u001B[39m \u001B[38;5;129;01min\u001B[39;00m sys\u001B[38;5;241m.\u001B[39mmodules:\n\u001B[0;32m      7\u001B[0m     \u001B[38;5;66;03m# https://stackoverflow.com/a/57378660/1214547\u001B[39;00m\n\u001B[0;32m      8\u001B[0m     \u001B[38;5;28;01mwith\u001B[39;00m video_path\u001B[38;5;241m.\u001B[39mopen(\u001B[38;5;124m'\u001B[39m\u001B[38;5;124mrb\u001B[39m\u001B[38;5;124m'\u001B[39m) \u001B[38;5;28;01mas\u001B[39;00m fp:\n",
      "\u001B[1;31mIndexError\u001B[0m: list index out of range"
     ]
    }
   ]
  },
  {
   "cell_type": "markdown",
   "source": [
    "## Assignment\n",
    "\n",
    "Implement a DQN agent that contains:\n",
    "1. A neural network that predicts the q-values for a given observation.\n",
    "2. An experience replay buffer where all transitions are added.\n",
    "3. A target Q-network that is formed by periodically copying the weights of the main Q-nework.\n",
    "\n",
    "You will also need to implement the training loop, and submit a figure showing the reward as a function of the training step, and a video showing an episode with the trained agent."
   ],
   "metadata": {
    "id": "y7wQU2iVzVNl"
   }
  },
  {
   "cell_type": "code",
   "source": [
    "import torch\n",
    "import torch.nn as nn\n",
    "device = torch.device('cuda' if torch.cuda.is_available() else 'cpu')\n",
    "\n",
    "class DQNAgent(nn.Module):\n",
    "    def __init__(self, state_shape, n_actions, epsilon=0):\n",
    "\n",
    "        super().__init__()\n",
    "        self.epsilon = epsilon\n",
    "        self.n_actions = n_actions\n",
    "        self.state_shape = state_shape\n",
    "        self.network = nn.Sequential(\n",
    "        nn.Conv2d(in_channels=state_shape[0], out_channels=16, kernel_size=3, stride=2)\n",
    "        ,nn.ReLU()\n",
    "        ,nn.Conv2d(in_channels=16, out_channels=32, kernel_size=3, stride=2)\n",
    "        ,nn.ReLU()\n",
    "        ,nn.Conv2d(in_channels=32, out_channels=64, kernel_size=3, stride=2)\n",
    "        ,nn.ReLU()\n",
    "        ,nn.Flatten()\n",
    "        ,nn.Linear(in_features=conv2d_size_out(conv2d_size_out(conv2d_size_out(64,3,2), 3, 2), 3, 2)**2 * 64, out_features=256)\n",
    "        ,nn.ReLU()\n",
    "        ,nn.Linear(in_features=256, out_features=n_actions)\n",
    "        )\n",
    "    def forward(self, states):\n",
    "        return self.network(states)\n",
    "\n",
    "    def get_qvalues(self, states):\n",
    "        values = self.forward(torch.tensor(states, device=next(self.parameters()).device, dtype=torch.float))\n",
    "        return values.data.cpu().numpy()\n",
    "\n",
    "    def sample_actions(self, qvalues):\n",
    "        size, actions = qvalues.shape\n",
    "        choice = np.random.choice([0, 1], size, p=[1-self.epsilon, self.epsilon])\n",
    "        return np.where(choice, np.random.choice(actions, size=size), qvalues.argmax(axis=-1))\n",
    "\n",
    "def conv2d_size_out(size, kernel_size, stride):\n",
    "    output_size = (size - kernel_size) // stride + 1\n",
    "    return output_size"
   ],
   "metadata": {
    "id": "XMem5kMxNirG",
    "ExecuteTime": {
     "end_time": "2024-03-26T11:17:07.336137Z",
     "start_time": "2024-03-26T11:17:07.307943Z"
    }
   },
   "execution_count": 8,
   "outputs": []
  },
  {
   "cell_type": "code",
   "source": [
    "def evaluate(env, agent, n_games=1, greedy=False, t_max=10000):\n",
    "    rewards = []\n",
    "    for _ in range(n_games):\n",
    "        s = env.reset()\n",
    "        reward = 0\n",
    "        for _ in range(t_max):\n",
    "            qvalues = agent.get_qvalues([s])\n",
    "            action = qvalues.argmax(axis=-1)[0] if greedy else agent.sample_actions(qvalues)[0]\n",
    "            s, r, done, _ = env.step(action)\n",
    "            reward += r\n",
    "            if done:\n",
    "              break\n",
    "\n",
    "        rewards.append(reward)\n",
    "    return np.mean(rewards)"
   ],
   "metadata": {
    "id": "1Rs3IJHfNzGB",
    "ExecuteTime": {
     "end_time": "2024-03-26T11:17:12.249193Z",
     "start_time": "2024-03-26T11:17:12.237626Z"
    }
   },
   "execution_count": 9,
   "outputs": []
  },
  {
   "cell_type": "code",
   "source": [
    "import numpy as np\n",
    "import random\n",
    "\n",
    "class ReplayBuffer(object):\n",
    "    def __init__(self, size):\n",
    "        self._storage = []\n",
    "        self._maxsize = size\n",
    "        self._next_idx = 0\n",
    "\n",
    "    def __len__(self):\n",
    "        return len(self._storage)\n",
    "\n",
    "    def add(self, obs_t, action, reward, obs_tp1, done):\n",
    "        data = (obs_t, action, reward, obs_tp1, done)\n",
    "\n",
    "        if self._next_idx >= len(self._storage):\n",
    "            self._storage.append(data)\n",
    "        else:\n",
    "            self._storage[self._next_idx] = data\n",
    "        self._next_idx = (self._next_idx + 1) % self._maxsize\n",
    "\n",
    "    def _encode_sample(self, idxes):\n",
    "        obses_t = []\n",
    "        actions = []\n",
    "        rewards = []\n",
    "        obses_tp1 = []\n",
    "        dones = []\n",
    "\n",
    "        for i in idxes:\n",
    "            data = self._storage[i]\n",
    "            obs_t, action, reward, obs_tp1, done = data\n",
    "            obses_t.append(np.array(obs_t, copy=False))\n",
    "            actions.append(np.array(action, copy=False))\n",
    "            rewards.append(reward)\n",
    "            obses_tp1.append(np.array(obs_tp1, copy=False))\n",
    "            dones.append(done)\n",
    "\n",
    "        return np.array(obses_t), np.array(actions), np.array(rewards), np.array(obses_tp1), np.array(dones)\n",
    "\n",
    "    def sample(self, batch_size):\n",
    "        idxes = [random.randint(0, len(self._storage) - 1) for _ in range(batch_size)]\n",
    "        return self._encode_sample(idxes)\n",
    "\n"
   ],
   "metadata": {
    "id": "NAjdPjRnRo3Q",
    "ExecuteTime": {
     "end_time": "2024-03-26T11:17:15.011197Z",
     "start_time": "2024-03-26T11:17:14.982757Z"
    }
   },
   "execution_count": 10,
   "outputs": []
  },
  {
   "cell_type": "code",
   "source": [
    "def env_step(state, agent, env, exp_replay, n_steps=1):\n",
    "    reward = 0\n",
    "    for t in range(n_steps):\n",
    "        qvalues = agent.get_qvalues([state])\n",
    "        action = agent.sample_actions(qvalues)[0]\n",
    "        next_state, current_reward, done, _ = env.step(action)\n",
    "\n",
    "        exp_replay.add(state, action, current_reward, next_state, done)\n",
    "        reward += current_reward\n",
    "        if done:\n",
    "            state = env.reset()\n",
    "        else:\n",
    "            state = next_state\n",
    "\n",
    "    return state"
   ],
   "metadata": {
    "id": "TcJARv5ZQE9O",
    "ExecuteTime": {
     "end_time": "2024-03-26T11:17:18.610068Z",
     "start_time": "2024-03-26T11:17:18.594709Z"
    }
   },
   "execution_count": 11,
   "outputs": []
  },
  {
   "cell_type": "code",
   "source": [
    "def td_loss(states, actions, rewards, next_states, is_done,agent, target_network, gamma=0.99, check_shapes=False, device=device):\n",
    "    actions = torch.tensor(actions, device=device, dtype=torch.long)\n",
    "    done = torch.tensor(is_done.astype('float32'),device=device,dtype=torch.float)\n",
    "    predicted_qvalues = agent(torch.tensor(states, device=device, dtype=torch.float))\n",
    "    predicted_next_qvalues = target_network(torch.tensor(next_states, device=device, dtype=torch.float))\n",
    "    predicted_qvalues_for_actions = predicted_qvalues[range(len(actions)), actions]\n",
    "    next_state_values = torch.max(predicted_next_qvalues, dim=1)[0]\n",
    "    target_qvalues_for_actions = torch.tensor(rewards, device=device, dtype=torch.float) + gamma * (next_state_values * (1 - done))\n",
    "    loss = torch.mean((predicted_qvalues_for_actions - target_qvalues_for_actions.detach()) ** 2)\n",
    "    return loss"
   ],
   "metadata": {
    "id": "GcdDF8LOP_Op",
    "ExecuteTime": {
     "end_time": "2024-03-26T11:17:21.360360Z",
     "start_time": "2024-03-26T11:17:21.342651Z"
    }
   },
   "execution_count": 12,
   "outputs": []
  },
  {
   "cell_type": "code",
   "source": [
    "def linear_decay(init_val, final_val, current_step, total_steps):\n",
    "    decay_rate = (init_val - final_val) / total_steps\n",
    "    decayed_value = max(final_val, init_val - decay_rate * current_step)\n",
    "    return decayed_value"
   ],
   "metadata": {
    "id": "kdTGRWL3EM-_",
    "ExecuteTime": {
     "end_time": "2024-03-26T11:17:24.917634Z",
     "start_time": "2024-03-26T11:17:24.896024Z"
    }
   },
   "execution_count": 13,
   "outputs": []
  },
  {
   "cell_type": "code",
   "source": [
    "random.seed(444)\n",
    "np.random.seed(444)\n",
    "torch.manual_seed(444)\n",
    "env = make_env(444)\n",
    "state_shape = env.observation_space.shape\n",
    "state = env.reset()\n",
    "agent = DQNAgent(state_shape, 4, epsilon=1).to(device)\n",
    "target_network = DQNAgent(state_shape, 4).to(device)\n",
    "target_network.load_state_dict(agent.state_dict())\n",
    "exp_replay = ReplayBuffer(10**4)\n",
    "optimizer = torch.optim.Adam(agent.parameters(), lr=1e-4)\n",
    "reward_history = []\n",
    "reward_mean = []\n",
    "step = 0\n",
    "total_steps = 2 *(10**6)\n",
    "decay_steps = 10**6"
   ],
   "metadata": {
    "id": "TGGngjUttnmb",
    "ExecuteTime": {
     "end_time": "2024-03-26T12:14:04.776988Z",
     "start_time": "2024-03-26T12:14:04.463278Z"
    }
   },
   "execution_count": 30,
   "outputs": []
  },
  {
   "cell_type": "code",
   "source": [
    "from IPython.display import clear_output\n",
    "import matplotlib.pyplot as plt\n",
    "import utils\n",
    "import os\n",
    "\n",
    "for i in range(100):\n",
    "    env_step(state, agent, env, exp_replay, n_steps=10**2)\n",
    "    if len(exp_replay) == 10**4:\n",
    "        break\n",
    "\n",
    "model_save_path = \"saved_models/\"\n",
    "if not os.path.exists(model_save_path):\n",
    "    os.makedirs(model_save_path)\n",
    "\n",
    "state = env.reset()\n",
    "for step in range(0, total_steps):\n",
    "\n",
    "    new_epsilon = linear_decay(1, 0.1, step, decay_steps)\n",
    "\n",
    "    agent.epsilon = new_epsilon\n",
    "\n",
    "    state = env_step(state, agent, env, exp_replay, 1)\n",
    "\n",
    "    obs, actions, rewards, next_obs, is_done = exp_replay.sample(16)\n",
    "    reward_history.append(rewards)\n",
    "\n",
    "    loss = td_loss(obs, actions, rewards, next_obs, is_done,agent, target_network,gamma=0.99, check_shapes=False, device=device)\n",
    "\n",
    "    loss.backward()\n",
    "    optimizer.step()\n",
    "    optimizer.zero_grad()\n",
    "\n",
    "    if step % 10000 == 0:\n",
    "        # Save the model\n",
    "        model_filename = f\"model_step_{step}.pt\"\n",
    "        torch.save(agent.state_dict(), os.path.join(model_save_path, model_filename))\n",
    "        \n",
    "    if step % 5000 == 0:\n",
    "        target_network.load_state_dict(agent.state_dict())\n",
    "        reward_mean.append(evaluate(make_env(clip_rewards=True, seed=step), agent, n_games=3 * 5, greedy=True))\n",
    "\n",
    "    print(\"Current Step = \", step)\n",
    "\n"
   ],
   "metadata": {
    "colab": {
     "base_uri": "https://localhost:8080/"
    },
    "id": "pE2QgRGLk7Xb",
    "outputId": "0033483a-d0fd-4383-b7ad-c292e77bdf81"
   },
   "execution_count": null,
   "outputs": []
  },
  {
   "cell_type": "code",
   "source": [
    "plt.plot(reward_mean)\n",
    "plt.xlabel('training step')\n",
    "plt.ylabel('reward')\n",
    "plt.title('Reward - Training steps')\n",
    "plt.show()"
   ],
   "metadata": {
    "id": "RDmgEhGc7zMr",
    "ExecuteTime": {
     "end_time": "2024-03-27T08:16:15.502811Z",
     "start_time": "2024-03-27T08:16:15.314373Z"
    }
   },
   "execution_count": 37,
   "outputs": [
    {
     "data": {
      "text/plain": "<Figure size 640x480 with 1 Axes>",
      "image/png": "[encoded data removed]"
     },
     "metadata": {},
     "output_type": "display_data"
    }
   ]
  },
  {
   "cell_type": "code",
   "source": [
    "\n",
    "import gym.wrappers\n",
    "import sys\n",
    "from pathlib import Path\n",
    "from base64 import b64encode\n",
    "import shutil\n",
    "\n",
    "from IPython.display import HTML\n",
    "\n",
    "shutil.rmtree(\"videos\", ignore_errors=True)\n",
    "os.makedirs(\"videos\", exist_ok=True)\n",
    "n_games = 30\n",
    "with gym.wrappers.Monitor(make_env(), directory=\"videos\", force=True) as env_monitor:\n",
    "    env_monitor.reset()\n",
    "    sessions = [evaluate(env_monitor, agent, n_games = 30, greedy=True, t_max = 10 * 1000)]"
   ],
   "metadata": {
    "id": "QZiJiClUzEJm"
   },
   "execution_count": null,
   "outputs": []
  },
  {
   "cell_type": "code",
   "source": [
    "\n",
    "import gym.wrappers\n",
    "import sys\n",
    "from pathlib import Path\n",
    "from base64 import b64encode\n",
    "import shutil\n",
    "\n",
    "from IPython.display import HTML\n",
    "\n",
    "shutil.rmtree(\"videos\", ignore_errors=True)\n",
    "os.makedirs(\"videos\", exist_ok=True)\n",
    "n_games = 30\n",
    "with gym.wrappers.Monitor(make_env(), directory=\"videos\", force=True) as env_monitor:\n",
    "    env_monitor.reset()\n",
    "    sessions = [evaluate(make_env(clip_rewards=False, seed=9),agent, n_games=30, greedy=True, t_max=10 * 1000) * 5]"
   ],
   "metadata": {
    "id": "XiqR1kjvzkqj"
   },
   "execution_count": null,
   "outputs": []
  },
  {
   "cell_type": "code",
   "source": [
    "# Show video\n",
    "video_paths = sorted([s for s in Path('videos').iterdir() if s.suffix == '.mp4'])\n",
    "video_path = video_paths[1]  # You can also try other indices (if n_games > 1)\n",
    "\n",
    "if 'google.colab' in sys.modules:\n",
    "    with video_path.open('rb') as fp:\n",
    "        mp4 = fp.read()\n",
    "    data_url = 'data:video/mp4;base64,' + b64encode(mp4).decode()\n",
    "else:\n",
    "    data_url = str(video_path)\n",
    "\n",
    "# Display video\n",
    "HTML(\"\"\"\n",
    "<video width=\"640\" height=\"480\" controls>\n",
    "  <source src=\"{}\" type=\"video/mp4\">\n",
    "</video>\n",
    "\"\"\".format(data_url))"
   ],
   "metadata": {
    "colab": {
     "base_uri": "https://localhost:8080/",
     "height": 502
    },
    "id": "Ku5pJcHmzHwl",
    "outputId": "5dd7f1be-2503-49de-cfe5-c59ac3f12f61"
   },
   "execution_count": null,
   "outputs": [
    {
     "output_type": "execute_result",
     "data": {
      "text/plain": [
       "<IPython.core.display.HTML object>"
      ],
      "text/html": [
       "\n",
       "<video width=\"640\" height=\"480\" controls>\n",
       "  <source src=\"data:video/mp4;base64,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\" type=\"video/mp4\">\n",
       "</video>\n"
      ]
     },
     "metadata": {},
     "execution_count": 26
    }
   ]
  }
 ],
 "metadata": {
  "language_info": {
   "name": "python"
  },
  "colab": {
   "provenance": [],
   "gpuType": "T4"
  },
  "kernelspec": {
   "name": "python3",
   "language": "python",
   "display_name": "Python 3 (ipykernel)"
  },
  "accelerator": "GPU"
 },
 "nbformat": 4,
 "nbformat_minor": 0
}
